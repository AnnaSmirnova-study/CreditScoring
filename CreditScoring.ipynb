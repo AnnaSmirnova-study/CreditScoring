{
  "nbformat": 4,
  "nbformat_minor": 0,
  "metadata": {
    "colab": {
      "name": "CreditScoring.ipynb",
      "provenance": [],
      "collapsed_sections": []
    },
    "kernelspec": {
      "name": "python3",
      "display_name": "Python 3"
    },
    "language_info": {
      "name": "python"
    }
  },
  "cells": [
    {
      "cell_type": "markdown",
      "source": [
        "# Обработка данных"
      ],
      "metadata": {
        "id": "dV4NxkG4547i"
      }
    },
    {
      "cell_type": "code",
      "source": [
        "import pandas as pd\n",
        "import numpy as np\n",
        
        "import matplotlib.pyplot as plt\n",
        "import seaborn as sns\n",
        "\n",
        "sns.set(style=\"darkgrid\")"
      ],
      "metadata": {
        "id": "Re0B93ue6EsL"
      },
      "execution_count": 34,
      "outputs": []
    },
    {
      "cell_type": "code",
      "execution_count": 3,
      "metadata": {
        "id": "Obrhlsay2fmi"
      },
      "outputs": [],
      "source": [
        "data = pd.read_csv(\"credit.csv\", encoding='latin1')"
      ]
    },
    {
      "cell_type": "markdown",
      "source": [
        "## Пропущенные данные"
      ],
      "metadata": {
        "id": "Vvf9INPv8wO6"
      }
    },
    {
      "cell_type": "code",
      "source": [
        "data.isna().sum()"
      ],
      "metadata": {
        "colab": {
          "base_uri": "https://localhost:8080/"
        },
        "id": "sQJXcIhI8bhM",
        "outputId": "465a9dff-fbdf-4be9-e515-af7c3d2bf10f"
      },
      "execution_count": 4,
      "outputs": [
        {
          "output_type": "execute_result",
          "data": {
            "text/plain": [
              "id                         0\n",
              "loan_amnt                  0\n",
              "funded_amnt                0\n",
              "funded_amnt_inv            0\n",
              "term                       0\n",
              "int_rate                   0\n",
              "installment                0\n",
              "grade                      0\n",
              "emp_title              29565\n",
              "emp_length             22615\n",
              "home_ownership             0\n",
              "annual_inc                 0\n",
              "verification_status        0\n",
              "issue_d                    0\n",
              "purpose                    0\n",
              "addr_state                 0\n",
              "dti                      148\n",
              "delinq_2yrs                0\n",
              "earliest_cr_line           0\n",
              "inq_last_6mths             1\n",
              "open_acc                   0\n",
              "pub_rec                    0\n",
              "revol_bal                  0\n",
              "revol_util               213\n",
              "total_acc                  0\n",
              "out_prncp                  0\n",
              "total_pymnt                0\n",
              "loan_status                0\n",
              "risk                       0\n",
              "dtype: int64"
            ]
          },
          "metadata": {},
          "execution_count": 4
        }
      ]
    },
    {
      "cell_type": "code",
      "source": [
        "# data['emp_title'].unique()"
      ],
      "metadata": {
        "id": "u3IUe7Vo-DfY"
      },
      "execution_count": 5,
      "outputs": []
    },
    {
      "cell_type": "code",
      "source": [
        "data.fillna(value={'emp_title': ''}, inplace = True)"
      ],
      "metadata": {
        "id": "Fgd1I5IL-6rD"
      },
      "execution_count": 6,
      "outputs": []
    },
    {
      "cell_type": "markdown",
      "source": [
        "Ниже с **emp_length** надо подумать, может лучше сделать просто количество лет и не делать это категориальным признаком"
      ],
      "metadata": {
        "id": "IOqIArFoAKuF"
      }
    },
    {
      "cell_type": "code",
      "source": [
        "data['emp_length'].unique()"
      ],
      "metadata": {
        "colab": {
          "base_uri": "https://localhost:8080/"
        },
        "id": "L8Vq1pBi-JLK",
        "outputId": "51d152b0-6889-4a18-dec7-5f96ad603011"
      },
      "execution_count": 7,
      "outputs": [
        {
          "output_type": "execute_result",
          "data": {
            "text/plain": [
              "array(['10+ years', '6 years', '4 years', '< 1 year', '2 years',\n",
              "       '9 years', nan, '5 years', '3 years', '7 years', '1 year',\n",
              "       '8 years'], dtype=object)"
            ]
          },
          "metadata": {},
          "execution_count": 7
        }
      ]
    },
    {
      "cell_type": "code",
      "source": [
        "data.fillna(value={'emp_length': 'No'}, inplace = True)"
      ],
      "metadata": {
        "id": "3EkGbcYMBCK8"
      },
      "execution_count": 8,
      "outputs": []
    },
    {
      "cell_type": "code",
      "source": [
        "# data.loc(data['emp_length'] == '10+ years', 'emp_length') = 11\n",
        "# data.loc(data['emp_length'] == '< 1 year', 'emp_length') = 0"
      ],
      "metadata": {
        "id": "g0sNQR5I_Av3"
      },
      "execution_count": 9,
      "outputs": []
    },
    {
      "cell_type": "markdown",
      "source": [
        "Два нижних признака пока вообще не поняла что значат, пока просто убрала nan"
      ],
      "metadata": {
        "id": "WloQfhtDApvM"
      }
    },
    {
      "cell_type": "code",
      "source": [
        "data['dti'].values"
      ],
      "metadata": {
        "colab": {
          "base_uri": "https://localhost:8080/"
        },
        "id": "byW4wI6N-Tlj",
        "outputId": "20c0535e-7dc3-44fb-ef54-d76df4d78d0b"
      },
      "execution_count": 10,
      "outputs": [
        {
          "output_type": "execute_result",
          "data": {
            "text/plain": [
              "array([30.46, 50.53, 18.92, ..., 18.56, 20.62, 16.14])"
            ]
          },
          "metadata": {},
          "execution_count": 10
        }
      ]
    },
    {
      "cell_type": "code",
      "source": [
        "data['revol_util'].values"
      ],
      "metadata": {
        "colab": {
          "base_uri": "https://localhost:8080/"
        },
        "id": "dO5L84Ma-Xbo",
        "outputId": "5cec4bac-ac00-4006-ab30-4c67381d51a3"
      },
      "execution_count": 11,
      "outputs": [
        {
          "output_type": "execute_result",
          "data": {
            "text/plain": [
              "array([37. , 64.5, 29.9, ..., 85. , 71.2, 34.8])"
            ]
          },
          "metadata": {},
          "execution_count": 11
        }
      ]
    },
    {
      "cell_type": "code",
      "source": [
        "data.fillna(value={'dti': 0, 'revol_util': 0}, inplace = True)"
      ],
      "metadata": {
        "id": "cGUkSvGq54af"
      },
      "execution_count": 12,
      "outputs": []
    },
    {
      "cell_type": "markdown",
      "source": [
        "## Другие обработки признаков\n",
        "\n"
      ],
      "metadata": {
        "id": "HFDRCKROGsLj"
      }
    },
    {
      "cell_type": "code",
      "source": [
        "data.loc[data['term'] == ' 36 months', 'term'] = 36\n",
        "data.loc[data['term'] == ' 60 months', 'term'] = 60"
      ],
      "metadata": {
        "id": "5BWniE0VFJf1"
      },
      "execution_count": 13,
      "outputs": []
    },
    {
      "cell_type": "code",
      "source": [
        "data.columns"
      ],
      "metadata": {
        "colab": {
          "base_uri": "https://localhost:8080/"
        },
        "id": "AzO96zM9A_K0",
        "outputId": "4989f005-6def-4f47-8950-c0373cfd9c55"
      },
      "execution_count": 14,
      "outputs": [
        {
          "output_type": "execute_result",
          
          "data": {
            "text/plain": [
              "Index(['id', 'loan_amnt', 'funded_amnt', 'funded_amnt_inv', 'term', 'int_rate',\n",
              "       'installment', 'grade', 'emp_title', 'emp_length', 'home_ownership',\n",
              "       'annual_inc', 'verification_status', 'issue_d', 'purpose', 'addr_state',\n",
              "       'dti', 'delinq_2yrs', 'earliest_cr_line', 'inq_last_6mths', 'open_acc',\n",
              "       'pub_rec', 'revol_bal', 'revol_util', 'total_acc', 'out_prncp',\n",
              "       'total_pymnt', 'loan_status', 'risk'],\n",
              "      dtype='object')"
            ]
          },
          "metadata": {},
          "execution_count": 14
        }
      ]
    },
    {
      "cell_type": "code",
      "source": [
        "data.head()"
      ],
      "metadata": {
        "colab": {
          "base_uri": "https://localhost:8080/",
          "height": 300
        },
        "id": "gVPc-bD_HIiY",
        "outputId": "b8991e3e-fe3f-4569-ea0a-a50a6f4af739"
      },
      "execution_count": 15,
      "outputs": [
        {
          "output_type": "execute_result",
          "data": {
            "text/html": [
              "\n",
              "  <div id=\"df-cf027f9f-9931-4572-af9a-429829484804\">\n",
              "    <div class=\"colab-df-container\">\n",
              "      <div>\n",
              "<style scoped>\n",
              "    .dataframe tbody tr th:only-of-type {\n",
              "        vertical-align: middle;\n",
              "    }\n",
              "\n",
              "    .dataframe tbody tr th {\n",
              "        vertical-align: top;\n",
              "    }\n",
              "\n",
              "    .dataframe thead th {\n",
              "        text-align: right;\n",
              "    }\n",
              "</style>\n",
              "<table border=\"1\" class=\"dataframe\">\n",
              "  <thead>\n",
              "    <tr style=\"text-align: right;\">\n",
              "      <th></th>\n",
              "      <th>id</th>\n",
              "      <th>loan_amnt</th>\n",
              "      <th>funded_amnt</th>\n",
              "      <th>funded_amnt_inv</th>\n",
              "      <th>term</th>\n",
              "      <th>int_rate</th>\n",
              "      <th>installment</th>\n",
              "      <th>grade</th>\n",
              "      <th>emp_title</th>\n",
              "      <th>emp_length</th>\n",
              "      <th>...</th>\n",
              "      <th>inq_last_6mths</th>\n",
              "      <th>open_acc</th>\n",
              "      <th>pub_rec</th>\n",
              "      <th>revol_bal</th>\n",
              "      <th>revol_util</th>\n",
              "      <th>total_acc</th>\n",
              "      <th>out_prncp</th>\n",
              "      <th>total_pymnt</th>\n",
              "      <th>loan_status</th>\n",
              "      <th>risk</th>\n",
              "    </tr>\n",
              "  </thead>\n",
              "  <tbody>\n",
              "    <tr>\n",
              "      <th>0</th>\n",
              "      <td>1</td>\n",
              "      <td>2500</td>\n",
              "      <td>2500</td>\n",
              "      <td>2500.0</td>\n",
              "      <td>36</td>\n",
              "      <td>13.56</td>\n",
              "      <td>84.92</td>\n",
              "      <td>C</td>\n",
              "      <td>Chef</td>\n",
              "      <td>10+ years</td>\n",
              "      <td>...</td>\n",
              "      <td>0.0</td>\n",
              "      <td>11</td>\n",
              "      <td>1</td>\n",
              "      <td>15603</td>\n",
              "      <td>37.0</td>\n",
              "      <td>19</td>\n",
              "      <td>0.0</td>\n",
              "      <td>30026.442500</td>\n",
              "      <td>Fully Paid</td>\n",
              "      <td>0</td>\n",
              "    </tr>\n",
              "    <tr>\n",
              "      <th>1</th>\n",
              "      <td>2</td>\n",
              "      <td>30000</td>\n",
              "      <td>30000</td>\n",
              "      <td>30000.0</td>\n",
              "      <td>60</td>\n",
              "      <td>18.94</td>\n",
              "      <td>777.23</td>\n",
              "      <td>D</td>\n",
              "      <td>Postmaster</td>\n",
              "      <td>10+ years</td>\n",
              "      <td>...</td>\n",
              "      <td>0.0</td>\n",
              "      <td>18</td>\n",
              "      <td>0</td>\n",
              "      <td>34971</td>\n",
              "      <td>64.5</td>\n",
              "      <td>37</td>\n",
              "      <td>0.0</td>\n",
              "      <td>40856.678960</td>\n",
              "      <td>Fully Paid</td>\n",
              "      <td>0</td>\n",
              "    </tr>\n",
              "    <tr>\n",
              "      <th>2</th>\n",
              "      <td>3</td>\n",
              "      <td>5000</td>\n",
              "      <td>5000</td>\n",
              "      <td>5000.0</td>\n",
              "      <td>36</td>\n",
              "      <td>17.97</td>\n",
              "      <td>180.69</td>\n",
              "      <td>D</td>\n",
              "      <td>Administrative</td>\n",
              "      <td>6 years</td>\n",
              "      <td>...</td>\n",
              "      <td>0.0</td>\n",
              "      <td>9</td>\n",
              "      <td>0</td>\n",
              "      <td>25416</td>\n",
              "      <td>29.9</td>\n",
              "      <td>19</td>\n",
              "      <td>0.0</td>\n",
              "      <td>20215.792430</td>\n",
              "      <td>Fully Paid</td>\n",
              "      <td>0</td>\n",
              "    </tr>\n",
              "    <tr>\n",
              "      <th>3</th>\n",
              "      <td>4</td>\n",
              "      <td>4000</td>\n",
              "      <td>4000</td>\n",
              "      <td>4000.0</td>\n",
              "      <td>36</td>\n",
              "      <td>18.94</td>\n",
              "      <td>146.51</td>\n",
              "      <td>D</td>\n",
              "      <td>IT Supervisor</td>\n",
              "      <td>10+ years</td>\n",
              "      <td>...</td>\n",
              "      <td>0.0</td>\n",
              "      <td>12</td>\n",
              "      <td>0</td>\n",
              "      <td>4472</td>\n",
              "      <td>15.3</td>\n",
              "      <td>25</td>\n",
              "      <td>0.0</td>\n",
              "      <td>4549.217149</td>\n",
              "      <td>Fully Paid</td>\n",
              "      <td>0</td>\n",
              "    </tr>\n",
              "    <tr>\n",
              "      <th>4</th>\n",
              "      <td>5</td>\n",
              "      <td>30000</td>\n",
              "      <td>30000</td>\n",
              "      <td>30000.0</td>\n",
              "      <td>60</td>\n",
              "      <td>16.14</td>\n",
              "      <td>731.78</td>\n",
              "      <td>C</td>\n",
              "      <td>Mechanic</td>\n",
              "      <td>10+ years</td>\n",
              "      <td>...</td>\n",
              "      <td>0.0</td>\n",
              "      <td>21</td>\n",
              "      <td>0</td>\n",
              "      <td>36812</td>\n",
              "      <td>65.7</td>\n",
              "      <td>37</td>\n",
              "      <td>0.0</td>\n",
              "      <td>8735.148975</td>\n",
              "      <td>Fully Paid</td>\n",
              "      <td>0</td>\n",
              "    </tr>\n",
              "  </tbody>\n",
              "</table>\n",
              "<p>5 rows × 29 columns</p>\n",
              "</div>\n",
              "      <button class=\"colab-df-convert\" onclick=\"convertToInteractive('df-cf027f9f-9931-4572-af9a-429829484804')\"\n",
              "              title=\"Convert this dataframe to an interactive table.\"\n",
              "              style=\"display:none;\">\n",
              "        \n",
              "  <svg xmlns=\"http://www.w3.org/2000/svg\" height=\"24px\"viewBox=\"0 0 24 24\"\n",
              "       width=\"24px\">\n",
              "    <path d=\"M0 0h24v24H0V0z\" fill=\"none\"/>\n",
              "    <path d=\"M18.56 5.44l.94 2.06.94-2.06 2.06-.94-2.06-.94-.94-2.06-.94 2.06-2.06.94zm-11 1L8.5 8.5l.94-2.06 2.06-.94-2.06-.94L8.5 2.5l-.94 2.06-2.06.94zm10 10l.94 2.06.94-2.06 2.06-.94-2.06-.94-.94-2.06-.94 2.06-2.06.94z\"/><path d=\"M17.41 7.96l-1.37-1.37c-.4-.4-.92-.59-1.43-.59-.52 0-1.04.2-1.43.59L10.3 9.45l-7.72 7.72c-.78.78-.78 2.05 0 2.83L4 21.41c.39.39.9.59 1.41.59.51 0 1.02-.2 1.41-.59l7.78-7.78 2.81-2.81c.8-.78.8-2.07 0-2.86zM5.41 20L4 18.59l7.72-7.72 1.47 1.35L5.41 20z\"/>\n",
              "  </svg>\n",
              "      </button>\n",
              "      \n",
              "  <style>\n",
              "    .colab-df-container {\n",
              "      display:flex;\n",
              "      flex-wrap:wrap;\n",
              "      gap: 12px;\n",
              "    }\n",
              "\n",
              "    .colab-df-convert {\n",
              "      background-color: #E8F0FE;\n",
              "      border: none;\n",
              "      border-radius: 50%;\n",
              "      cursor: pointer;\n",
              "      display: none;\n",
              "      fill: #1967D2;\n",
              "      height: 32px;\n",
              "      padding: 0 0 0 0;\n",
              "      width: 32px;\n",
              "    }\n",
              "\n",
              "    .colab-df-convert:hover {\n",
              "      background-color: #E2EBFA;\n",
              "      box-shadow: 0px 1px 2px rgba(60, 64, 67, 0.3), 0px 1px 3px 1px rgba(60, 64, 67, 0.15);\n",
              "      fill: #174EA6;\n",
              "    }\n",
              "\n",
              "    [theme=dark] .colab-df-convert {\n",
              "      background-color: #3B4455;\n",
              "      fill: #D2E3FC;\n",
              "    }\n",
              "\n",
              "    [theme=dark] .colab-df-convert:hover {\n",
              "      background-color: #434B5C;\n",
              "      box-shadow: 0px 1px 3px 1px rgba(0, 0, 0, 0.15);\n",
              "      filter: drop-shadow(0px 1px 2px rgba(0, 0, 0, 0.3));\n",
              "      fill: #FFFFFF;\n",
              "    }\n",
              "  </style>\n",
              "\n",
              "      <script>\n",
              "        const buttonEl =\n",
              "          document.querySelector('#df-cf027f9f-9931-4572-af9a-429829484804 button.colab-df-convert');\n",
              "        buttonEl.style.display =\n",
              "          google.colab.kernel.accessAllowed ? 'block' : 'none';\n",
              "\n",
              "        async function convertToInteractive(key) {\n",
              "          const element = document.querySelector('#df-cf027f9f-9931-4572-af9a-429829484804');\n",
              "          const dataTable =\n",
              "            await google.colab.kernel.invokeFunction('convertToInteractive',\n",
              "                                                     [key], {});\n",
              "          if (!dataTable) return;\n",
              "\n",
              "          const docLinkHtml = 'Like what you see? Visit the ' +\n",
              "            '<a target=\"_blank\" href=https://colab.research.google.com/notebooks/data_table.ipynb>data table notebook</a>'\n",
              "            + ' to learn more about interactive tables.';\n",
              "          element.innerHTML = '';\n",
              "          dataTable['output_type'] = 'display_data';\n",
              "          await google.colab.output.renderOutput(dataTable, element);\n",
              "          const docLink = document.createElement('div');\n",
              "          docLink.innerHTML = docLinkHtml;\n",
              "          element.appendChild(docLink);\n",
              "        }\n",
              "      </script>\n",
              "    </div>\n",
              "  </div>\n",
              "  "
            ],
            "text/plain": [
              "   id  loan_amnt  funded_amnt  funded_amnt_inv term  int_rate  installment  \\\n",
              "0   1       2500         2500           2500.0   36     13.56        84.92   \n",
              "1   2      30000        30000          30000.0   60     18.94       777.23   \n",
              "2   3       5000         5000           5000.0   36     17.97       180.69   \n",
              "3   4       4000         4000           4000.0   36     18.94       146.51   \n",
              "4   5      30000        30000          30000.0   60     16.14       731.78   \n",
              "\n",
              "  grade       emp_title emp_length  ... inq_last_6mths  open_acc pub_rec  \\\n",
              "0     C            Chef  10+ years  ...            0.0        11       1   \n",
              "1     D     Postmaster   10+ years  ...            0.0        18       0   \n",
              "2     D  Administrative    6 years  ...            0.0         9       0   \n",
              "3     D   IT Supervisor  10+ years  ...            0.0        12       0   \n",
              "4     C        Mechanic  10+ years  ...            0.0        21       0   \n",
              "\n",
              "  revol_bal revol_util total_acc  out_prncp   total_pymnt loan_status  risk  \n",
              "0     15603       37.0        19        0.0  30026.442500  Fully Paid     0  \n",
              "1     34971       64.5        37        0.0  40856.678960  Fully Paid     0  \n",
              "2     25416       29.9        19        0.0  20215.792430  Fully Paid     0  \n",
              "3      4472       15.3        25        0.0   4549.217149  Fully Paid     0  \n",
              "4     36812       65.7        37        0.0   8735.148975  Fully Paid     0  \n",
              "\n",
              "[5 rows x 29 columns]"
            ]
          },
          "metadata": {},
          "execution_count": 15
        }
      ]
    },
    {
      "cell_type": "markdown",
      "source": [
        "Два признака с датами, которые возможно стоит перевести в data type, но не разобралась пока что они значат"
      ],
      "metadata": {
        "id": "sR8G_8IAMMOH"
      }
    },
    {
      "cell_type": "code",
      "source": [
        "data['issue_d'].unique()"
      ],
      "metadata": {
        "colab": {
          "base_uri": "https://localhost:8080/"
        },
        "id": "pMESdfa2GzJk",
        "outputId": "59c2a462-0f59-48ef-e463-45bf1ebef653"
      },
      "execution_count": 16,
      "outputs": [
        {
          "output_type": "execute_result",
          "data": {
            "text/plain": [
              "array(['Dec-18', 'Nov-18', 'Oct-18', 'Mar-16', 'Feb-16', 'Jan-16',\n",
              "       'Nov-15', 'Dec-15', 'Oct-15'], dtype=object)"
            ]
          },
          "metadata": {},
          "execution_count": 16
        }
      ]
    },
    {
      "cell_type": "code",
      "source": [
        "data['earliest_cr_line']"
      ],
      "metadata": {
        "colab": {
          "base_uri": "https://localhost:8080/"
        },
        "id": "CcbzukHHGQm4",
        "outputId": "1645bee5-43e1-4f54-8310-bfc41cdf64f6"
      },
      "execution_count": 17,
      "outputs": [
        {
          "output_type": "execute_result",
          "data": {
            "text/plain": [
              "0         Jan-12\n",
              "1         Jun-09\n",
              "2         Feb-99\n",
              "3         Dec-03\n",
              "4         Oct-97\n",
              "           ...  \n",
              "310699    Nov-98\n",
              "310700    Nov-97\n",
              "310701    Aug-96\n",
              "310702    Apr-01\n",
              "310703    Sep-87\n",
              "Name: earliest_cr_line, Length: 310704, dtype: object"
            ]
          },
          "metadata": {},
          "execution_count": 17
        }
      ]
    },
    {
      "cell_type": "markdown",
      "source": [
        "## Посмотрю немного на зависимости "
      ],
      "metadata": {
        "id": "AvDixk0RNIIc"
      }
    },
    {
      "cell_type": "code",
      "source": [
        "data['installment'].hist(bins=100, facecolor='m', figsize=(10, 7))\n",
        "plt.title('Распределение первоначального взноса', size = 15)\n",
        "plt.xlabel('Размер взноса', size = 15)\n",
        "plt.ylabel('Количество', size = 12)\n",
        "\n",
        "plt.show()"
      ],
      "metadata": {
        "colab": {
          "base_uri": "https://localhost:8080/",
          "height": 467
        },
        "id": "FpibgygAbWh9",
        "outputId": "8a7e0403-c503-46fd-d8f4-ec3dc9eaa95e"
      },
      "execution_count": 38,
      "outputs": [
        {
          "output_type": "display_data",
          "data": {
            "image/png": "[encoded data removed]",
            "text/plain": [
              "<Figure size 720x504 with 1 Axes>"
            ]
          },
          "metadata": {}
        }
      ]
    },
    {
      "cell_type": "markdown",
      "source": [
        "Риск дефолта или очень поздного погашения в зависимости от опыта работы:"
      ],
      "metadata": {
        "id": "--xcvS6nicZ4"
      }
    },
    {
      "cell_type": "code",
      "source": [
        "data['loan_status'].unique()"
      ],
      "metadata": {
        "colab": {
          "base_uri": "https://localhost:8080/"
        },
        "id": "KZ_qvWnRdHid",
        "outputId": "56f4e537-a62e-46a0-8e92-9767eed7864a"
      },
      "execution_count": 40,
      "outputs": [
        {
          "output_type": "execute_result",
          "data": {
            "text/plain": [
              "array(['Fully Paid', 'Charged Off', 'Default', 'In Grace Period',\n",
              "       'Late (16-30 days)', 'Late (31-120 days)'], dtype=object)"
            ]
          },
          "metadata": {},
          "execution_count": 40
        }
      ]
    },
    {
      "cell_type": "code",
      "source": [
        "answ = data.loc[(data['loan_status'] == 'Default') | (data['loan_status'] == 'Late (31-120 days)')]\n",
        "ax = sns.relplot(data = answ.groupby('emp_length').count()['loan_status'], marker=\"*\", color=\"m\", s = 400)\n",
        "\n",
        "plt.title('Количество дефолтов', size = 17)\n",
        "plt.xlabel('Опыт работы', size = 15)\n",
        "plt.ylabel('Количесво случаев', size = 15)\n",
        "ax.fig.set_size_inches(15, 7)"
      ],
      "metadata": {
        "colab": {
          "base_uri": "https://localhost:8080/",
          "height": 506
        },
        "id": "y7sKQ8ZbcAa6",
        "outputId": "0204d17f-189a-421a-ebf6-e7053cc17de8"
      },
      "execution_count": 58,
      "outputs": [
        {
          "output_type": "display_data",
          "data": {
            "image/png": "[encoded data removed]",
            "text/plain": [
              "<Figure size 1080x504 with 1 Axes>"
            ]
          },
          "metadata": {}
        }
      ]
    },
    {
      "cell_type": "code",
      "source": [
        ""
      ],
      "metadata": {
        "id": "Qf9C0YwKimwo"
      },
      "execution_count": null,
      "outputs": []
    }
  ]
}
